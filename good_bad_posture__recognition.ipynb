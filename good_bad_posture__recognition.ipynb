{
  "nbformat": 4,
  "nbformat_minor": 0,
  "metadata": {
    "colab": {
      "name": "good_bad_posture__recognition.ipynb",
      "provenance": [],
      "collapsed_sections": []
    },
    "kernelspec": {
      "name": "python3",
      "display_name": "Python 3"
    },
    "language_info": {
      "name": "python"
    },
    "accelerator": "GPU"
  },
  "cells": [
    {
      "cell_type": "code",
      "execution_count": null,
      "metadata": {
        "id": "_U1zWOnDvap7",
        "colab": {
          "base_uri": "https://localhost:8080/"
        },
        "outputId": "4dec2d49-ad1b-44a2-fede-c5acec54c0a3"
      },
      "outputs": [
        {
          "output_type": "stream",
          "name": "stdout",
          "text": [
            "Looking in indexes: https://pypi.org/simple, https://us-python.pkg.dev/colab-wheels/public/simple/\n",
            "Requirement already satisfied: opencv-python in /usr/local/lib/python3.7/dist-packages (4.1.2.30)\n",
            "Requirement already satisfied: numpy>=1.14.5 in /usr/local/lib/python3.7/dist-packages (from opencv-python) (1.21.6)\n",
            "Looking in indexes: https://pypi.org/simple, https://us-python.pkg.dev/colab-wheels/public/simple/\n",
            "Requirement already satisfied: mediapipe in /usr/local/lib/python3.7/dist-packages (0.8.10)\n",
            "Requirement already satisfied: numpy in /usr/local/lib/python3.7/dist-packages (from mediapipe) (1.21.6)\n",
            "Requirement already satisfied: absl-py in /usr/local/lib/python3.7/dist-packages (from mediapipe) (1.0.0)\n",
            "Requirement already satisfied: attrs>=19.1.0 in /usr/local/lib/python3.7/dist-packages (from mediapipe) (21.4.0)\n",
            "Requirement already satisfied: opencv-contrib-python in /usr/local/lib/python3.7/dist-packages (from mediapipe) (4.1.2.30)\n",
            "Requirement already satisfied: matplotlib in /usr/local/lib/python3.7/dist-packages (from mediapipe) (3.2.2)\n",
            "Requirement already satisfied: protobuf>=3.11.4 in /usr/local/lib/python3.7/dist-packages (from mediapipe) (3.17.3)\n",
            "Requirement already satisfied: six>=1.9 in /usr/local/lib/python3.7/dist-packages (from protobuf>=3.11.4->mediapipe) (1.15.0)\n",
            "Requirement already satisfied: kiwisolver>=1.0.1 in /usr/local/lib/python3.7/dist-packages (from matplotlib->mediapipe) (1.4.2)\n",
            "Requirement already satisfied: python-dateutil>=2.1 in /usr/local/lib/python3.7/dist-packages (from matplotlib->mediapipe) (2.8.2)\n",
            "Requirement already satisfied: cycler>=0.10 in /usr/local/lib/python3.7/dist-packages (from matplotlib->mediapipe) (0.11.0)\n",
            "Requirement already satisfied: pyparsing!=2.0.4,!=2.1.2,!=2.1.6,>=2.0.1 in /usr/local/lib/python3.7/dist-packages (from matplotlib->mediapipe) (3.0.9)\n",
            "Requirement already satisfied: typing-extensions in /usr/local/lib/python3.7/dist-packages (from kiwisolver>=1.0.1->matplotlib->mediapipe) (4.2.0)\n",
            "--2022-06-02 17:48:33--  https://raw.githubusercontent.com/spmallick/learnopencv/blob/master/Posture-analysis-system-using-MediaPipe-Pose/input.mp4\n",
            "Resolving raw.githubusercontent.com (raw.githubusercontent.com)... 185.199.108.133, 185.199.109.133, 185.199.110.133, ...\n",
            "Connecting to raw.githubusercontent.com (raw.githubusercontent.com)|185.199.108.133|:443... connected.\n",
            "HTTP request sent, awaiting response... 404 Not Found\n",
            "2022-06-02 17:48:33 ERROR 404: Not Found.\n",
            "\n"
          ]
        }
      ],
      "source": [
        "if 'google.colab' in str(get_ipython()):\n",
        "    !pip install opencv-python\n",
        "    !pip install mediapipe\n",
        "    !wget https://raw.githubusercontent.com/spmallick/learnopencv/blob/master/Posture-analysis-system-using-MediaPipe-Pose/input.mp4\n",
        "else:\n",
        "    pass"
      ]
    },
    {
      "cell_type": "code",
      "source": [
        "import cv2\n",
        "import time\n",
        "import math as m\n",
        "import mediapipe as mp"
      ],
      "metadata": {
        "id": "fHqCmAydvhHL"
      },
      "execution_count": null,
      "outputs": []
    },
    {
      "cell_type": "code",
      "source": [
        "# Initilize medipipe selfie segmentation class.\n",
        "mp_pose = mp.solutions.pose\n",
        "mp_holistic = mp.solutions.holistic"
      ],
      "metadata": {
        "id": "frQwrcArvlyR"
      },
      "execution_count": null,
      "outputs": []
    },
    {
      "cell_type": "code",
      "source": [
        "def findDistance(x1, y1, x2, y2):\n",
        "    dist = m.sqrt((x2-x1)**2+(y2-y1)**2)\n",
        "    return dist"
      ],
      "metadata": {
        "id": "fgqxMRdlvolv"
      },
      "execution_count": null,
      "outputs": []
    },
    {
      "cell_type": "code",
      "source": [
        "# Calculate angle.\n",
        "def findAngle(x1, y1, x2, y2):\n",
        "    theta = m.acos((y2 -y1)*(-y1) / (m.sqrt((x2 - x1)**2 + (y2 - y1)**2) * y1))\n",
        "    degree = int(180/m.pi)*theta\n",
        "    return degree"
      ],
      "metadata": {
        "id": "iQFlTUpGvs2R"
      },
      "execution_count": null,
      "outputs": []
    },
    {
      "cell_type": "code",
      "source": [
        "def sendWarning():\n",
        "    pass"
      ],
      "metadata": {
        "id": "QOD4pGbdwrg2"
      },
      "execution_count": null,
      "outputs": []
    },
    {
      "cell_type": "code",
      "source": [
        "# Initilize frame counters.\n",
        "good_frames = 0\n",
        "bad_frames = 0\n",
        "\n",
        "# Font type.\n",
        "font = cv2.FONT_HERSHEY_SIMPLEX\n",
        "\n",
        "# Colors.\n",
        "blue = (255, 127, 0)\n",
        "red = (50, 50, 255)\n",
        "green = (127, 255, 0)\n",
        "dark_blue = (127, 20, 0)\n",
        "light_green = (127, 233, 100)\n",
        "yellow = (0, 255, 255)\n",
        "pink = (255, 0, 255)"
      ],
      "metadata": {
        "id": "QTnFRa4Mw0aR"
      },
      "execution_count": null,
      "outputs": []
    },
    {
      "cell_type": "code",
      "source": [
        "# Initialize mediapipe pose class.\n",
        "mp_pose = mp.solutions.pose\n",
        "pose = mp_pose.Pose()\n",
        "\n",
        "# Initialize video capture object.\n",
        "# For webcam input replace file name with 0.\n",
        "file_name = '/content/second_review.mp4'\n",
        "cap = cv2.VideoCapture(file_name)\n",
        "\n",
        "# Meta.\n",
        "fps = int(cap.get(cv2.CAP_PROP_FPS))\n",
        "width = int(cap.get(cv2.CAP_PROP_FRAME_WIDTH))\n",
        "height = int(cap.get(cv2.CAP_PROP_FRAME_HEIGHT))\n",
        "frame_size = (width, height)\n",
        "fourcc = cv2.VideoWriter_fourcc(*'mp4v')\n",
        "\n",
        "# Initialize video writer.\n",
        "video_output = cv2.VideoWriter('/content/sample_data/review_output.mp4', fourcc, fps, frame_size)"
      ],
      "metadata": {
        "id": "_0ssv_afw220"
      },
      "execution_count": null,
      "outputs": []
    },
    {
      "cell_type": "code",
      "source": [
        "print('Processing..')\n",
        "while cap.isOpened():\n",
        "    # Capture frames.\n",
        "    success, image = cap.read()\n",
        "    if not success:\n",
        "        print(\"Null.Frames\")\n",
        "        break\n",
        "    # Get fps.\n",
        "    fps = cap.get(cv2.CAP_PROP_FPS)\n",
        "    # Get height and width.\n",
        "    h, w = image.shape[:2]\n",
        "\n",
        "    # Convert the BGR image to RGB.\n",
        "    image = cv2.cvtColor(image, cv2.COLOR_BGR2RGB)\n",
        "\n",
        "    # Process the image.\n",
        "    keypoints = pose.process(image)\n",
        "\n",
        "    # Convert the image back to BGR.\n",
        "    image = cv2.cvtColor(image, cv2.COLOR_RGB2BGR)\n",
        "\n",
        "    # Use lm and lmPose as representative of the following methods.\n",
        "    lm = keypoints.pose_landmarks\n",
        "    lmPose = mp_pose.PoseLandmark\n",
        "\n",
        "    # Acquire the landmark coordinates.\n",
        "    # Once aligned properly, left or right should not be a concern.      \n",
        "    # Left shoulder.\n",
        "    l_shldr_x = int(lm.landmark[lmPose.LEFT_SHOULDER].x * w)\n",
        "    l_shldr_y = int(lm.landmark[lmPose.LEFT_SHOULDER].y * h)\n",
        "    # Right shoulder\n",
        "    r_shldr_x = int(lm.landmark[lmPose.RIGHT_SHOULDER].x * w)\n",
        "    r_shldr_y = int(lm.landmark[lmPose.RIGHT_SHOULDER].y * h)\n",
        "    # Left ear.\n",
        "    l_ear_x = int(lm.landmark[lmPose.LEFT_EAR].x * w)\n",
        "    l_ear_y = int(lm.landmark[lmPose.LEFT_EAR].y * h)\n",
        "    # Left hip.\n",
        "    l_nose_x = int(lm.landmark[lmPose.NOSE].x * w)\n",
        "    l_nose_y = int(lm.landmark[lmPose.NOSE].y * h)\n",
        "\n",
        "    # Calculate distance between left shoulder and right shoulder points.\n",
        "    offset = findDistance(l_shldr_x, l_shldr_y, r_shldr_x, r_shldr_y)\n",
        "\n",
        "    # Assist to align the camera to point at the side view of the person.\n",
        "    # Offset threshold 30 is based on results obtained from analysis over 100 samples.\n",
        "    if offset < 100:\n",
        "        cv2.putText(image, str(int(offset)) + ' Aligned', (w - 150, 30), font, 0.9, green, 2)\n",
        "    else:\n",
        "        cv2.putText(image, str(int(offset)) + ' Not Aligned', (w - 150, 30), font, 0.9, red, 2)\n",
        "\n",
        "    # Calculate angles.\n",
        "    neck_inclination = findAngle(l_shldr_x, l_shldr_y, l_ear_x, l_ear_y)\n",
        "    torso_inclination = findAngle(l_nose_x, l_nose_y, l_shldr_x, l_shldr_y)\n",
        "\n",
        "    # Draw landmarks.\n",
        "    cv2.circle(image, (l_shldr_x, l_shldr_y), 7, yellow, -1)\n",
        "    cv2.circle(image, (l_ear_x, l_ear_y), 7, yellow, -1)\n",
        "\n",
        "    # Let's take y - coordinate of P3 100px above x1,  for display elegance.\n",
        "    # Although we are taking y = 0 while calculating angle between P1,P2,P3.\n",
        "    cv2.circle(image, (l_shldr_x, l_shldr_y - 100), 7, yellow, -1)\n",
        "    cv2.circle(image, (r_shldr_x, r_shldr_y), 7, pink, -1)\n",
        "    cv2.circle(image, (l_nose_x, l_nose_y), 7, yellow, -1)\n",
        "\n",
        "    # Similarly, here we are taking y - coordinate 100px above x1. Note that\n",
        "    # you can take any value for y, not necessarily 100 or 200 pixels.\n",
        "    cv2.circle(image, (l_nose_x, l_nose_y - 100), 7, yellow, -1)\n",
        "\n",
        "    # Put text, Posture and angle inclination.\n",
        "    # Text string for display.\n",
        "    angle_text_string = 'Neck : ' + str(int(neck_inclination)) + '  Torso : ' + str(int(torso_inclination))\n",
        "\n",
        "    # Determine whether good posture or bad posture.\n",
        "    # The threshold angles have been set based on intuition.\n",
        "    if neck_inclination >= 15 and neck_inclination <= 22 and torso_inclination >=140 and torso_inclination <=150:\n",
        "        bad_frames = 0\n",
        "        good_frames += 1\n",
        "\n",
        "        cv2.putText(image, angle_text_string, (10, 30), font, 0.9, light_green, 2)\n",
        "        cv2.putText(image, str(int(neck_inclination)), (l_shldr_x + 10, l_shldr_y), font, 0.9, light_green, 2)\n",
        "        cv2.putText(image, str(int(torso_inclination)), (l_nose_x + 10, l_nose_y), font, 0.9, light_green, 2)\n",
        "\n",
        "        # Join landmarks.\n",
        "        cv2.line(image, (l_shldr_x, l_shldr_y), (l_ear_x, l_ear_y), green, 4)\n",
        "        cv2.line(image, (l_shldr_x, l_shldr_y), (l_shldr_x, l_shldr_y - 100), green, 4)\n",
        "        cv2.line(image, (l_nose_x, l_nose_y), (l_shldr_x, l_shldr_y), green, 4)\n",
        "        cv2.line(image, (l_nose_x, l_nose_y), (l_nose_x, l_nose_y - 100), green, 4)\n",
        "\n",
        "    else:\n",
        "        good_frames = 0\n",
        "        bad_frames += 1\n",
        "\n",
        "        cv2.putText(image, angle_text_string, (10, 30), font, 0.9, red, 2)\n",
        "        cv2.putText(image, str(int(neck_inclination)), (l_shldr_x + 10, l_shldr_y), font, 0.9, red, 2)\n",
        "        cv2.putText(image, str(int(torso_inclination)), (l_nose_x + 10, l_nose_y), font, 0.9, red, 2)\n",
        "\n",
        "        # Join landmarks.\n",
        "        cv2.line(image, (l_shldr_x, l_shldr_y), (l_ear_x, l_ear_y), red, 4)\n",
        "        cv2.line(image, (l_shldr_x, l_shldr_y), (l_shldr_x, l_shldr_y - 100), red, 4)\n",
        "        cv2.line(image, (l_nose_x, l_nose_y), (l_shldr_x, l_shldr_y), red, 4)\n",
        "        cv2.line(image, (l_nose_x, l_nose_y), (l_nose_x, l_nose_y - 100), red, 4)\n",
        "\n",
        "    # Calculate the time of remaining in a particular posture.\n",
        "    good_time = (1 / fps) * good_frames\n",
        "    bad_time =  (1 / fps) * bad_frames\n",
        "\n",
        "    # Pose time.\n",
        "    if good_time > 0:\n",
        "        time_string_good = 'Good Posture Time : ' + str(round(good_time, 1)) + 's'\n",
        "        cv2.putText(image, time_string_good, (10, h - 20), font, 0.9, green, 2)\n",
        "    else:\n",
        "        time_string_bad = 'Bad Posture Time : ' + str(round(bad_time, 1)) + 's'\n",
        "        cv2.putText(image, time_string_bad, (10, h - 20), font, 0.9, red, 2)\n",
        "\n",
        "    # If you stay in bad posture for more than 3 minutes (180s) send an alert.\n",
        "    if bad_time > 30:\n",
        "        sendWarning()\n",
        "    # Write frames.\n",
        "    video_output.write(image)\n",
        "print('Finished.')\n",
        "cap.release()\n",
        "video_output.release()"
      ],
      "metadata": {
        "colab": {
          "base_uri": "https://localhost:8080/"
        },
        "id": "V6jVH2pzw74t",
        "outputId": "4c2cc27a-f3f0-4433-f9cd-e573fbdebf2e"
      },
      "execution_count": null,
      "outputs": [
        {
          "output_type": "stream",
          "name": "stdout",
          "text": [
            "Processing..\n",
            "Null.Frames\n",
            "Finished.\n"
          ]
        }
      ]
    }
  ]
}